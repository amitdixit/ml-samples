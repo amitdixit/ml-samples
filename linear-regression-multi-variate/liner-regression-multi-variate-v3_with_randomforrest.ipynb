{
 "cells": [
  {
   "cell_type": "code",
   "execution_count": 2,
   "metadata": {},
   "outputs": [],
   "source": [
    "import pandas as pd\n",
    "from sklearn.model_selection import train_test_split\n",
    "from sklearn.preprocessing import OneHotEncoder\n",
    "from sklearn.linear_model import LinearRegression\n",
    "from sklearn.ensemble import RandomForestRegressor\n",
    "from sklearn.metrics import mean_squared_error\n"
   ]
  },
  {
   "cell_type": "code",
   "execution_count": 3,
   "metadata": {},
   "outputs": [
    {
     "data": {
      "text/html": [
       "<div>\n",
       "<style scoped>\n",
       "    .dataframe tbody tr th:only-of-type {\n",
       "        vertical-align: middle;\n",
       "    }\n",
       "\n",
       "    .dataframe tbody tr th {\n",
       "        vertical-align: top;\n",
       "    }\n",
       "\n",
       "    .dataframe thead th {\n",
       "        text-align: right;\n",
       "    }\n",
       "</style>\n",
       "<table border=\"1\" class=\"dataframe\">\n",
       "  <thead>\n",
       "    <tr style=\"text-align: right;\">\n",
       "      <th></th>\n",
       "      <th>bhk</th>\n",
       "      <th>type</th>\n",
       "      <th>locality</th>\n",
       "      <th>area</th>\n",
       "      <th>region</th>\n",
       "      <th>status</th>\n",
       "      <th>age</th>\n",
       "      <th>price_in_cr</th>\n",
       "      <th>age_new</th>\n",
       "    </tr>\n",
       "  </thead>\n",
       "  <tbody>\n",
       "    <tr>\n",
       "      <th>0</th>\n",
       "      <td>3</td>\n",
       "      <td>Apartment</td>\n",
       "      <td>Lak And Hanware The Residency Tower</td>\n",
       "      <td>685</td>\n",
       "      <td>Andheri West</td>\n",
       "      <td>Ready to move</td>\n",
       "      <td>New</td>\n",
       "      <td>2.5000</td>\n",
       "      <td>0</td>\n",
       "    </tr>\n",
       "    <tr>\n",
       "      <th>1</th>\n",
       "      <td>2</td>\n",
       "      <td>Apartment</td>\n",
       "      <td>Radheya Sai Enclave Building No 2</td>\n",
       "      <td>640</td>\n",
       "      <td>Naigaon East</td>\n",
       "      <td>Under Construction</td>\n",
       "      <td>New</td>\n",
       "      <td>0.5251</td>\n",
       "      <td>0</td>\n",
       "    </tr>\n",
       "  </tbody>\n",
       "</table>\n",
       "</div>"
      ],
      "text/plain": [
       "   bhk       type                             locality  area        region  \\\n",
       "0    3  Apartment  Lak And Hanware The Residency Tower   685  Andheri West   \n",
       "1    2  Apartment    Radheya Sai Enclave Building No 2   640  Naigaon East   \n",
       "\n",
       "               status  age  price_in_cr  age_new  \n",
       "0       Ready to move  New       2.5000        0  \n",
       "1  Under Construction  New       0.5251        0  "
      ]
     },
     "execution_count": 3,
     "metadata": {},
     "output_type": "execute_result"
    }
   ],
   "source": [
    "df = pd.read_csv('mumbai_house_prices.csv')\n",
    "top_10_rows= df.head(2)\n",
    "top_10_rows\n",
    "\n",
    "#0 New, 1 Resale, 2 Unknown"
   ]
  },
  {
   "cell_type": "code",
   "execution_count": 4,
   "metadata": {},
   "outputs": [],
   "source": [
    "# Prepare Data\n",
    "X = df[['bhk', 'region', 'age_new', 'area']]\n",
    "y = df['price_in_cr']"
   ]
  },
  {
   "cell_type": "code",
   "execution_count": 5,
   "metadata": {},
   "outputs": [],
   "source": [
    "# Encode categorical variable\n",
    "encoder = OneHotEncoder()\n",
    "X_encoded_region = encoder.fit_transform(X[['region']]).toarray()\n",
    "\n",
    "X_encoded_region_df = pd.DataFrame(X_encoded_region, columns=encoder.get_feature_names_out(['region']))\n",
    "\n"
   ]
  },
  {
   "cell_type": "code",
   "execution_count": 6,
   "metadata": {},
   "outputs": [],
   "source": [
    "# Combine encoded columns with the rest of the data\n",
    "X = X.drop(columns=['region']).reset_index(drop=True)\n",
    "X = pd.concat([X, X_encoded_region_df], axis=1)"
   ]
  },
  {
   "cell_type": "code",
   "execution_count": 7,
   "metadata": {},
   "outputs": [],
   "source": [
    "# Split data\n",
    "X_train, X_test, y_train, y_test = train_test_split(X, y, test_size=0.2, random_state=42)\n"
   ]
  },
  {
   "cell_type": "code",
   "execution_count": 8,
   "metadata": {},
   "outputs": [],
   "source": [
    "# Linear Regression\n",
    "lr_model = LinearRegression()\n",
    "lr_model.fit(X_train, y_train)\n",
    "lr_pred = lr_model.predict(X_test)\n",
    "lr_mse = mean_squared_error(y_test, lr_pred)"
   ]
  },
  {
   "cell_type": "code",
   "execution_count": 9,
   "metadata": {},
   "outputs": [],
   "source": [
    "# Random Forest Regressor\n",
    "rf_model = RandomForestRegressor(random_state=42)\n",
    "rf_model.fit(X_train, y_train)\n",
    "rf_pred = rf_model.predict(X_test)\n",
    "rf_mse = mean_squared_error(y_test, rf_pred)"
   ]
  },
  {
   "cell_type": "code",
   "execution_count": 10,
   "metadata": {},
   "outputs": [
    {
     "name": "stdout",
     "output_type": "stream",
     "text": [
      "Linear Regression Mean Squared Error: 145694660856650.8\n",
      "Random Forest Regressor Mean Squared Error: 0.4063260246337531\n"
     ]
    }
   ],
   "source": [
    "print(f'Linear Regression Mean Squared Error: {lr_mse}')\n",
    "print(f'Random Forest Regressor Mean Squared Error: {rf_mse}')"
   ]
  },
  {
   "cell_type": "code",
   "execution_count": 11,
   "metadata": {},
   "outputs": [],
   "source": [
    "# Example Prediction\n",
    "#0 New, 1 Resale, 2 Unknown\n",
    "example = pd.DataFrame({'bhk': [2], 'age_new': [0], 'area': [650], 'region': ['Andheri West']})\n",
    "example_encoded = encoder.transform(example[['region']]).toarray()\n",
    "example_encoded_df = pd.DataFrame(example_encoded, columns=encoder.get_feature_names_out(['region']))\n",
    "example = example.drop(columns=['region']).reset_index(drop=True)\n",
    "example = pd.concat([example, example_encoded_df], axis=1)\n",
    "\n",
    "lr_price_prediction = lr_model.predict(example)\n",
    "rf_price_prediction = rf_model.predict(example)"
   ]
  },
  {
   "cell_type": "code",
   "execution_count": 12,
   "metadata": {},
   "outputs": [
    {
     "name": "stdout",
     "output_type": "stream",
     "text": [
      "Linear Regression Predicted Price: 2.127359500620514 Cr\n",
      "Random Forest Regressor Predicted Price: 2.1880206349206355 Cr\n"
     ]
    }
   ],
   "source": [
    "print(f'Linear Regression Predicted Price: {lr_price_prediction[0]} Cr')\n",
    "print(f'Random Forest Regressor Predicted Price: {rf_price_prediction[0]} Cr')"
   ]
  }
 ],
 "metadata": {
  "kernelspec": {
   "display_name": "Python 3",
   "language": "python",
   "name": "python3"
  },
  "language_info": {
   "codemirror_mode": {
    "name": "ipython",
    "version": 3
   },
   "file_extension": ".py",
   "mimetype": "text/x-python",
   "name": "python",
   "nbconvert_exporter": "python",
   "pygments_lexer": "ipython3",
   "version": "3.11.1"
  }
 },
 "nbformat": 4,
 "nbformat_minor": 2
}
